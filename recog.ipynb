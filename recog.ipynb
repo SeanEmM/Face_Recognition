{
 "cells": [
  {
   "cell_type": "code",
   "execution_count": 35,
   "metadata": {},
   "outputs": [],
   "source": [
    "import cv2\n",
    "import numpy as np\n",
    "import face_recognition as fr\n",
    "import os\n",
    "import re"
   ]
  },
  {
   "cell_type": "code",
   "execution_count": 36,
   "metadata": {},
   "outputs": [
    {
     "data": {
      "text/plain": [
       "['Bennet.JPG', 'Nari.JPG', 'Prasad.jpeg', 'Sonal.JPG', 'Travin.JPG']"
      ]
     },
     "execution_count": 36,
     "metadata": {},
     "output_type": "execute_result"
    }
   ],
   "source": [
    "path = 'images'\n",
    "mylist = os.listdir(path)\n",
    "mylist"
   ]
  },
  {
   "cell_type": "code",
   "execution_count": 37,
   "metadata": {},
   "outputs": [],
   "source": [
    "images = []\n",
    "classnames = []\n"
   ]
  },
  {
   "cell_type": "code",
   "execution_count": 38,
   "metadata": {},
   "outputs": [],
   "source": [
    "for img in mylist:\n",
    "    path_img = os.path.join(path,img)\n",
    "    current_img = cv2.imread(path_img)\n",
    "    images.append(current_img)\n",
    "    names = img.split('.')\n",
    "    classnames.append(names[0])"
   ]
  },
  {
   "cell_type": "code",
   "execution_count": 39,
   "metadata": {},
   "outputs": [
    {
     "data": {
      "text/plain": [
       "['Bennet', 'Nari', 'Prasad', 'Sonal', 'Travin']"
      ]
     },
     "execution_count": 39,
     "metadata": {},
     "output_type": "execute_result"
    }
   ],
   "source": [
    "classnames"
   ]
  },
  {
   "cell_type": "code",
   "execution_count": 40,
   "metadata": {},
   "outputs": [
    {
     "data": {
      "text/plain": [
       "5"
      ]
     },
     "execution_count": 40,
     "metadata": {},
     "output_type": "execute_result"
    }
   ],
   "source": [
    "len(images)"
   ]
  },
  {
   "cell_type": "code",
   "execution_count": null,
   "metadata": {},
   "outputs": [
    {
     "name": "stdout",
     "output_type": "stream",
     "text": [
      "[(1150, 3599, 2108, 2640)]\n",
      "[-0.14258748  0.15387796  0.04375416 -0.05253656  0.02393778 -0.02726496\n",
      " -0.08290543 -0.07146473  0.20159143 -0.05038622  0.21778323  0.08256948\n",
      " -0.20691732 -0.08949986 -0.06642868  0.09426483 -0.15330355 -0.16279215\n",
      " -0.0847754  -0.0849736   0.10188145 -0.01099054 -0.01852382  0.05625571\n",
      " -0.21398303 -0.26984379 -0.09854586 -0.15628251 -0.03214865 -0.13411397\n",
      "  0.05443571 -0.00682849 -0.23224977 -0.04314912 -0.05789474  0.00923065\n",
      "  0.05011781  0.0623211   0.12604402  0.06214923 -0.11845787 -0.04354803\n",
      "  0.05524352  0.2423553   0.17354526  0.08542375  0.05610901 -0.00604944\n",
      "  0.05671366 -0.25737736  0.04932157  0.12064668  0.14568254  0.09694818\n",
      "  0.07978773 -0.1750036   0.00572725  0.04767504 -0.189017    0.14691021\n",
      "  0.03051049 -0.04444823 -0.10893368  0.0275882   0.23859048  0.12594323\n",
      " -0.14614952 -0.11853082  0.1584395  -0.16696642 -0.04016369  0.12551422\n",
      " -0.07096906 -0.16586037 -0.30807397  0.05224145  0.42462024  0.15886854\n",
      " -0.16717903  0.0136603  -0.14120647 -0.0181342  -0.04525207 -0.02882215\n",
      " -0.1639881   0.10017594 -0.09797473  0.05543944  0.18751378  0.11258884\n",
      " -0.04521775  0.22162452 -0.02351504  0.05306583  0.01518524  0.06444532\n",
      " -0.08999376 -0.09470797 -0.08498246 -0.04636834 -0.00400324 -0.03080125\n",
      " -0.02845953  0.07081226 -0.10298809  0.13196    -0.02234875 -0.01441813\n",
      " -0.12692688  0.13724731 -0.1507744  -0.04287219  0.15036571 -0.20232412\n",
      "  0.16219644  0.16479449  0.02696406  0.07343587  0.09218613  0.05311244\n",
      " -0.05270164 -0.01938436 -0.10358913 -0.09377533  0.02822356 -0.11218072\n",
      "  0.11666912  0.00567006]\n"
     ]
    }
   ],
   "source": [
    "# img1 = images[0]\n",
    "# img2 = cv2.cvtColor(img1,cv2.COLOR_BGR2RGB)\n",
    "# face_in_frames = fr.face_locations(img2)\n",
    "# print(face_in_frames)\n",
    "# encode = fr.face_encodings(img2,face_in_frames)[0]\n",
    "# print(encode)"
   ]
  },
  {
   "cell_type": "code",
   "execution_count": null,
   "metadata": {},
   "outputs": [],
   "source": []
  },
  {
   "cell_type": "code",
   "execution_count": null,
   "metadata": {},
   "outputs": [],
   "source": []
  }
 ],
 "metadata": {
  "kernelspec": {
   "display_name": ".venv",
   "language": "python",
   "name": "python3"
  },
  "language_info": {
   "codemirror_mode": {
    "name": "ipython",
    "version": 3
   },
   "file_extension": ".py",
   "mimetype": "text/x-python",
   "name": "python",
   "nbconvert_exporter": "python",
   "pygments_lexer": "ipython3",
   "version": "3.12.3"
  }
 },
 "nbformat": 4,
 "nbformat_minor": 2
}
